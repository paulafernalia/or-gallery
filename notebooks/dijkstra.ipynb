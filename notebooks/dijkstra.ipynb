{
 "cells": [
  {
   "cell_type": "markdown",
   "id": "09498ed4-cafb-4f61-a0e1-02606c187de0",
   "metadata": {},
   "source": [
    "# Dynamic Programming"
   ]
  },
  {
   "cell_type": "markdown",
   "id": "20225794-a25a-47b1-aaac-b6c70b783808",
   "metadata": {},
   "source": [
    "Import libraries"
   ]
  },
  {
   "cell_type": "code",
   "execution_count": 4,
   "id": "3f6649a0-a2d9-4ebb-94d7-aa29694e9e59",
   "metadata": {},
   "outputs": [
    {
     "data": {
      "text/plain": [
       "<module 'or_algorithms.dynamic_programming' from '/Users/paulafermincueto/Coding/theORgallery/src/or_algorithms/dynamic_programming.py'>"
      ]
     },
     "execution_count": 4,
     "metadata": {},
     "output_type": "execute_result"
    }
   ],
   "source": [
    "from or_algorithms import dynamic_programming as dp\n",
    "import random\n",
    "importlib.reload(dp)"
   ]
  },
  {
   "cell_type": "code",
   "execution_count": 22,
   "id": "2eba4c41-fd29-4acf-be17-e8466cf8307f",
   "metadata": {},
   "outputs": [
    {
     "name": "stdout",
     "output_type": "stream",
     "text": [
      "Maximum value that can be packed = 218\n"
     ]
    }
   ],
   "source": [
    "size = 50\n",
    "weights = [random.randint(0, 10) for _ in range(size)]\n",
    "values = [random.randint(0, 10) for _ in range(size)]\n",
    "capacity = size * 2\n",
    "\n",
    "value, _ = dp.solve_knapsack(capacity, weights, values)\n",
    "\n",
    "print(\"Maximum value that can be packed =\", value)"
   ]
  }
 ],
 "metadata": {
  "kernelspec": {
   "display_name": "Python 3 (ipykernel)",
   "language": "python",
   "name": "python3"
  },
  "language_info": {
   "codemirror_mode": {
    "name": "ipython",
    "version": 3
   },
   "file_extension": ".py",
   "mimetype": "text/x-python",
   "name": "python",
   "nbconvert_exporter": "python",
   "pygments_lexer": "ipython3",
   "version": "3.13.1"
  }
 },
 "nbformat": 4,
 "nbformat_minor": 5
}
