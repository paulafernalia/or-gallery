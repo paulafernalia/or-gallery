{
 "cells": [
  {
   "cell_type": "code",
   "execution_count": 3,
   "id": "3f6649a0-a2d9-4ebb-94d7-aa29694e9e59",
   "metadata": {},
   "outputs": [
    {
     "name": "stdout",
     "output_type": "stream",
     "text": [
      "\n",
      "SOLVE NODE 3, objective=10.600000000000001\n"
     ]
    },
    {
     "ename": "AssertionError",
     "evalue": "",
     "output_type": "error",
     "traceback": [
      "\u001b[0;31m---------------------------------------------------------------------------\u001b[0m",
      "\u001b[0;31mAssertionError\u001b[0m                            Traceback (most recent call last)",
      "Cell \u001b[0;32mIn[3], line 21\u001b[0m\n\u001b[1;32m     19\u001b[0m \u001b[38;5;66;03m# Solve the problem\u001b[39;00m\n\u001b[1;32m     20\u001b[0m solver \u001b[38;5;241m=\u001b[39m bb\u001b[38;5;241m.\u001b[39mBranchAndBound(model)\n\u001b[0;32m---> 21\u001b[0m \u001b[43msolver\u001b[49m\u001b[38;5;241;43m.\u001b[39;49m\u001b[43moptimize\u001b[49m\u001b[43m(\u001b[49m\u001b[43m)\u001b[49m\n",
      "File \u001b[0;32m~/Coding/theORgallery/src/or_algorithms/branch_and_bound.py:354\u001b[0m, in \u001b[0;36mBranchAndBound.optimize\u001b[0;34m(self)\u001b[0m\n\u001b[1;32m    351\u001b[0m \u001b[38;5;28;01massert\u001b[39;00m selected_node\u001b[38;5;241m.\u001b[39mobjective \u001b[38;5;241m<\u001b[39m \u001b[38;5;28mself\u001b[39m\u001b[38;5;241m.\u001b[39mbounds\u001b[38;5;241m.\u001b[39mbest_objective\n\u001b[1;32m    353\u001b[0m \u001b[38;5;66;03m# Update model to the selected_node\u001b[39;00m\n\u001b[0;32m--> 354\u001b[0m \u001b[38;5;28;43mself\u001b[39;49m\u001b[38;5;241;43m.\u001b[39;49m\u001b[43mtraverse\u001b[49m\u001b[43m(\u001b[49m\u001b[43mprevious_node\u001b[49m\u001b[43m,\u001b[49m\u001b[43m \u001b[49m\u001b[43mselected_node\u001b[49m\u001b[43m)\u001b[49m\n\u001b[1;32m    356\u001b[0m \u001b[38;5;66;03m# Branch on selected node\u001b[39;00m\n\u001b[1;32m    357\u001b[0m \u001b[38;5;28mself\u001b[39m\u001b[38;5;241m.\u001b[39mbranch(selected_node)\n",
      "File \u001b[0;32m~/Coding/theORgallery/src/or_algorithms/branch_and_bound.py:279\u001b[0m, in \u001b[0;36mBranchAndBound.traverse\u001b[0;34m(self, origin, destination)\u001b[0m\n\u001b[1;32m    273\u001b[0m \u001b[38;5;28mself\u001b[39m\u001b[38;5;241m.\u001b[39mreset_model(origin, common_node)\n\u001b[1;32m    275\u001b[0m \u001b[38;5;66;03m# Update model to avoid errors\u001b[39;00m\n\u001b[1;32m    276\u001b[0m \u001b[38;5;66;03m# TODO(paula): update model\u001b[39;00m\n\u001b[1;32m    277\u001b[0m \n\u001b[1;32m    278\u001b[0m \u001b[38;5;66;03m# Add variable bounds down branch\u001b[39;00m\n\u001b[0;32m--> 279\u001b[0m \u001b[38;5;28;43mself\u001b[39;49m\u001b[38;5;241;43m.\u001b[39;49m\u001b[43mupdate_model\u001b[49m\u001b[43m(\u001b[49m\u001b[43mcommon_node\u001b[49m\u001b[43m,\u001b[49m\u001b[43m \u001b[49m\u001b[43mdestination\u001b[49m\u001b[43m)\u001b[49m\n",
      "File \u001b[0;32m~/Coding/theORgallery/src/or_algorithms/branch_and_bound.py:251\u001b[0m, in \u001b[0;36mBranchAndBound.update_model\u001b[0;34m(self, origin_node, target_node)\u001b[0m\n\u001b[1;32m    248\u001b[0m \u001b[38;5;28;01mif\u001b[39;00m origin_node \u001b[38;5;241m==\u001b[39m target_node:\n\u001b[1;32m    249\u001b[0m     \u001b[38;5;28;01mreturn\u001b[39;00m\n\u001b[0;32m--> 251\u001b[0m \u001b[38;5;28;01massert\u001b[39;00m target_node\u001b[38;5;241m.\u001b[39mparent\n\u001b[1;32m    253\u001b[0m \u001b[38;5;66;03m# Backtrack to start from the origin node\u001b[39;00m\n\u001b[1;32m    254\u001b[0m \u001b[38;5;28mself\u001b[39m\u001b[38;5;241m.\u001b[39mupdate_model(origin_node, target_node\u001b[38;5;241m.\u001b[39mparent)\n",
      "\u001b[0;31mAssertionError\u001b[0m: "
     ]
    }
   ],
   "source": [
    "import pulp\n",
    "from or_algorithms import branch_and_bound as bb\n",
    "\n",
    "\n",
    "# Define the problem\n",
    "model = pulp.LpProblem(\"Basic_Integer_Programming\", pulp.LpMinimize)\n",
    "\n",
    "# Define integer variables\n",
    "x = pulp.LpVariable(\"x\", lowBound=0, cat=\"Continuous\")\n",
    "y = pulp.LpVariable(\"y\", lowBound=0, cat=\"Continuous\")\n",
    "\n",
    "# Objective function: Minimize 3x + 4y\n",
    "model += 3 * x + 4 * y, \"Objective\"\n",
    "\n",
    "# Constraints\n",
    "model += x + 2 * y >= 5, \"Constraint 1\"\n",
    "model += 3 * x + y >= 4, \"Constraint 2\"\n",
    "\n",
    "# Solve the problem\n",
    "solver = bb.BranchAndBound(model)\n",
    "solver.optimize()"
   ]
  },
  {
   "cell_type": "code",
   "execution_count": null,
   "id": "5c9deb41-57d7-447c-b814-cfd9d15202db",
   "metadata": {},
   "outputs": [],
   "source": []
  }
 ],
 "metadata": {
  "kernelspec": {
   "display_name": "Python 3 (ipykernel)",
   "language": "python",
   "name": "python3"
  },
  "language_info": {
   "codemirror_mode": {
    "name": "ipython",
    "version": 3
   },
   "file_extension": ".py",
   "mimetype": "text/x-python",
   "name": "python",
   "nbconvert_exporter": "python",
   "pygments_lexer": "ipython3",
   "version": "3.13.1"
  }
 },
 "nbformat": 4,
 "nbformat_minor": 5
}
