{
 "cells": [
  {
   "cell_type": "code",
   "execution_count": 35,
   "id": "3f6649a0-a2d9-4ebb-94d7-aa29694e9e59",
   "metadata": {},
   "outputs": [
    {
     "name": "stdout",
     "output_type": "stream",
     "text": [
      "\n",
      "SOLVE NODE 1, objective=10.600000000000001\n",
      "\n",
      "SOLVE NODE 2, objective=10.600000000000001\n",
      "\n",
      "SOLVE NODE 3, objective=10.600000000000001\n"
     ]
    }
   ],
   "source": [
    "import sys\n",
    "import os\n",
    "import importlib\n",
    "\n",
    "# Get the absolute path of the src directory\n",
    "src_path = os.path.abspath(\"../src\")\n",
    "if src_path not in sys.path:\n",
    "    sys.path.append(src_path)\n",
    "\n",
    "from or_algorithms import branch_and_bound as bb\n",
    "importlib.reload(bb)\n",
    "\n",
    "\n",
    "import pulp\n",
    "\n",
    "# Define the problem\n",
    "model = pulp.LpProblem(\"Basic_Integer_Programming\", pulp.LpMinimize)\n",
    "\n",
    "# Define integer variables\n",
    "x = pulp.LpVariable(\"x\", lowBound=0, cat=\"Continuous\")\n",
    "y = pulp.LpVariable(\"y\", lowBound=0, cat=\"Continuous\")\n",
    "\n",
    "# Objective function: Minimize 3x + 4y\n",
    "model += 3 * x + 4 * y, \"Objective\"\n",
    "\n",
    "# Constraints\n",
    "model += x + 2 * y >= 5, \"Constraint 1\"\n",
    "model += 3 * x + y >= 4, \"Constraint 2\"\n",
    "\n",
    "# Solve the problem\n",
    "solver = bb.BranchAndBound(model)\n",
    "solver.optimize()"
   ]
  },
  {
   "cell_type": "code",
   "execution_count": null,
   "id": "5c9deb41-57d7-447c-b814-cfd9d15202db",
   "metadata": {},
   "outputs": [],
   "source": []
  }
 ],
 "metadata": {
  "kernelspec": {
   "display_name": "Python 3 (ipykernel)",
   "language": "python",
   "name": "python3"
  },
  "language_info": {
   "codemirror_mode": {
    "name": "ipython",
    "version": 3
   },
   "file_extension": ".py",
   "mimetype": "text/x-python",
   "name": "python",
   "nbconvert_exporter": "python",
   "pygments_lexer": "ipython3",
   "version": "3.13.1"
  }
 },
 "nbformat": 4,
 "nbformat_minor": 5
}
