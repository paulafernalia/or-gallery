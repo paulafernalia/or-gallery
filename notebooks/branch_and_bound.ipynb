{
 "cells": [
  {
   "cell_type": "markdown",
   "id": "09498ed4-cafb-4f61-a0e1-02606c187de0",
   "metadata": {},
   "source": [
    "# Branch and bound"
   ]
  },
  {
   "cell_type": "markdown",
   "id": "234e6724-d83d-49d2-ae4e-eba2eb08a0c8",
   "metadata": {},
   "source": [
    "Using thee branch and bound implementation in `src/or_algorithms/branch_and_bound.py` to solve the following simple MIP:\n",
    "\n",
    "$z = \\textnormal{min} \\quad 3x + 4y \\quad \\textnormal{s.t.}~~~2x + y \\geq 5, \\ 3x + y \\geq 4, \\ x \\geq 0, \\ y \\geq 0$."
   ]
  },
  {
   "cell_type": "markdown",
   "id": "20225794-a25a-47b1-aaac-b6c70b783808",
   "metadata": {},
   "source": [
    "Import libraries"
   ]
  },
  {
   "cell_type": "code",
   "execution_count": 157,
   "id": "3f6649a0-a2d9-4ebb-94d7-aa29694e9e59",
   "metadata": {},
   "outputs": [
    {
     "name": "stdout",
     "output_type": "stream",
     "text": [
      "\n"
     ]
    }
   ],
   "source": [
    "import importlib\n",
    "import pulp\n",
    "from or_algorithms import branch_and_bound as bb\n",
    "importlib.reload(bb)\n",
    "print()"
   ]
  },
  {
   "cell_type": "markdown",
   "id": "a8aa0406-f00e-45ee-a3a2-c092f185c44d",
   "metadata": {},
   "source": [
    "Optimise"
   ]
  },
  {
   "cell_type": "code",
   "execution_count": 159,
   "id": "c0f282b0-120e-440c-81d2-a433f912d360",
   "metadata": {},
   "outputs": [
    {
     "name": "stdout",
     "output_type": "stream",
     "text": [
      "Root node LP solved. Objective=10.60. Fractional variables=2.\n",
      "\n",
      "Node  | Unexpl |        Obj | IntInf | LowBound  | UpperBound |       Gap\n",
      "------|--------|------------|--------|-----------|------------|-----------\n",
      " 5    |      0 |      11.00 |      0 |     10.60 |      11.00 |     3.77% |\n",
      " 6    |      0 |     cutoff |      1 |     10.60 |      11.00 |     3.77% |\n",
      "\n",
      "MIP solved. Best objective=11.0000. Best bound=11.0000. Gap=0.0000%.\n",
      "\n",
      "Solution:\n",
      "* x = 1.0000\n",
      "* y = 2.0000\n"
     ]
    }
   ],
   "source": [
    "# Define the problem\n",
    "model = pulp.LpProblem(\"basic_IP\", pulp.LpMinimize)\n",
    "\n",
    "# Define integer variables\n",
    "x = pulp.LpVariable(\"x\", lowBound=0, cat=\"Continuous\")\n",
    "y = pulp.LpVariable(\"y\", lowBound=0, cat=\"Continuous\")\n",
    "\n",
    "# Objective function: Minimize 3x + 4y\n",
    "model += 3 * x + 4 * y, \"Objective\"\n",
    "\n",
    "# Constraints\n",
    "model += x + 2 * y >= 5, \"Constraint 1\"\n",
    "model += 3 * x + y >= 4, \"Constraint 2\"\n",
    "\n",
    "# Solve the problem\n",
    "solver = bb.BranchAndBound(model)\n",
    "status = solver.optimize()"
   ]
  }
 ],
 "metadata": {
  "kernelspec": {
   "display_name": "Python 3 (ipykernel)",
   "language": "python",
   "name": "python3"
  },
  "language_info": {
   "codemirror_mode": {
    "name": "ipython",
    "version": 3
   },
   "file_extension": ".py",
   "mimetype": "text/x-python",
   "name": "python",
   "nbconvert_exporter": "python",
   "pygments_lexer": "ipython3",
   "version": "3.13.1"
  }
 },
 "nbformat": 4,
 "nbformat_minor": 5
}
